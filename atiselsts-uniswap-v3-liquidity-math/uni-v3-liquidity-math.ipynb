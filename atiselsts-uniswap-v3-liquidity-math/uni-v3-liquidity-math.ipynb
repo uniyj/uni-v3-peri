{
 "cells": [
  {
   "cell_type": "markdown",
   "metadata": {},
   "source": [
    "# Uniswap V3 Liquidity Maths\n",
    "\n",
    "This notebook is just the `.ipynb` (for easier reading of both code and output on github) implementation of [this code](https://github.com/atiselsts/uniswap-v3-liquidity-math/blob/master/uniswap-v3-liquidity-math.py) (credit: https://github.com/atiselsts) with slight modifications, showing the equations and examples from the corresponding \"[Liquidity Math in Uniswap v3](http://atiselsts.github.io/pdfs/uniswap-v3-liquidity-math.pdf)\" paper.\n",
    "\n",
    "See the technical note [Liquidity Math in Uniswap v3](http://atiselsts.github.io/pdfs/uniswap-v3-liquidity-math.pdf) and the [Uniswap v3 whitepaper](https://uniswap.org/whitepaper-v3.pdf) for more details."
   ]
  },
  {
   "cell_type": "code",
   "execution_count": null,
   "metadata": {},
   "outputs": [],
   "source": [
    "# Liquidity math adapted from:\n",
    "#   https://github.com/Uniswap/uniswap-v3-periphery/blob/main/contracts/libraries/LiquidityAmounts.sol\n",
    "\n",
    "def get_liquidity_0(x, sa, sb):\n",
    "    return x * sa * sb / (sb - sa)\n",
    "\n",
    "def get_liquidity_1(y, sa, sb):\n",
    "    return y / (sb - sa)\n",
    "\n",
    "def get_liquidity(x, y, sp, sa, sb):\n",
    "    if sp <= sa:\n",
    "        liquidity = get_liquidity_0(x, sa, sb)\n",
    "    elif sp < sb:\n",
    "        liquidity0 = get_liquidity_0(x, sp, sb)\n",
    "        liquidity1 = get_liquidity_1(y, sa, sp)\n",
    "        liquidity = min(liquidity0, liquidity1)\n",
    "    else:\n",
    "        liquidity = get_liquidity_1(y, sa, sb)\n",
    "    return liquidity"
   ]
  },
  {
   "cell_type": "code",
   "execution_count": null,
   "metadata": {},
   "outputs": [],
   "source": [
    "# Calculate x and y given liquidity and price range\n",
    "\n",
    "def calculate_x(L, sp, sa, sb):\n",
    "    # if the price is outside the range, use the range endpoints instead\n",
    "    sp = max(min(sp, sb), sa)\n",
    "    return L * (sb - sp) / (sp * sb)  #from eq(12) in Tech Note\n",
    "\n",
    "def calculate_y(L, sp, sa, sb):\n",
    "    # if the price is outside the range, use the range endpoints instead\n",
    "    sp = max(min(sp, sb), sa)\n",
    "    return L * (sp - sa)  #from eq(13) in Tech Note"
   ]
  },
  {
   "cell_type": "code",
   "execution_count": null,
   "metadata": {},
   "outputs": [],
   "source": [
    "# Two different ways how to calculate p_a. calculate_a1() uses liquidity as an input, calculate_a2() does not.\n",
    "\n",
    "def calculate_a1(L, sp, sb, x, y):\n",
    "    # https://www.wolframalpha.com/input/?i=solve+L+%3D+y+%2F+%28sqrt%28P%29+-+a%29+for+a\n",
    "    # sqrt(a) = sqrt(P) - y / L\n",
    "    return (sp - y / L) ** 2  #from eq(14) in Tech Note\n",
    "\n",
    "def calculate_a2(sp, sb, x, y):\n",
    "    # https://www.wolframalpha.com/input/?i=solve+++x+sqrt%28P%29+sqrt%28b%29+%2F+%28sqrt%28b%29++-+sqrt%28P%29%29+%3D+y+%2F+%28sqrt%28P%29+-+a%29%2C+for+a\n",
    "    # sqrt(a) = (y/sqrt(b) + sqrt(P) x - y/sqrt(P))/x\n",
    "    #    simplify:\n",
    "    # sqrt(a) = y/(sqrt(b) x) + sqrt(P) - y/(sqrt(P) x)\n",
    "    sa = y / (sb * x) + sp - y / (sp * x)  #from eq(16) in Tech Note\n",
    "    return sa ** 2"
   ]
  },
  {
   "cell_type": "code",
   "execution_count": null,
   "metadata": {},
   "outputs": [],
   "source": [
    "# Two different ways how to calculate p_b. calculate_b1() uses liquidity as an input, calculate_b2() does not.\n",
    "\n",
    "def calculate_b1(L, sp, sa, x, y):\n",
    "    # https://www.wolframalpha.com/input/?i=solve+L+%3D+x+sqrt%28P%29+sqrt%28b%29+%2F+%28sqrt%28b%29+-+sqrt%28P%29%29+for+b\n",
    "    # sqrt(b) = (L sqrt(P)) / (L - sqrt(P) x)\n",
    "    return ((L * sp) / (L - sp * x)) ** 2  #from eq(15) in Tech Note\n",
    "\n",
    "def calculate_b2(sp, sa, x, y):\n",
    "    # find the square root of b:\n",
    "    # https://www.wolframalpha.com/input/?i=solve+++x+sqrt%28P%29+b+%2F+%28b++-+sqrt%28P%29%29+%3D+y+%2F+%28sqrt%28P%29+-+sqrt%28a%29%29%2C+for+b\n",
    "    # sqrt(b) = (sqrt(P) y)/(sqrt(a) sqrt(P) x - P x + y)\n",
    "    P = sp ** 2\n",
    "    return (sp * y / ((sa * sp - P) * x + y)) ** 2  #from eq(17) in Tech Note"
   ]
  },
  {
   "cell_type": "code",
   "execution_count": null,
   "metadata": {},
   "outputs": [],
   "source": [
    "# Calculating c and d\n",
    "\n",
    "def calculate_c(p, d, x, y):\n",
    "    return y / ((d - 1) * p * x + y)  #from eq(24) in Tech Note\n",
    "\n",
    "def calculate_d(p, c, x, y):\n",
    "    return 1 + y * (1 - c) / (c * p * x)  #from eq(25) in Tech Note"
   ]
  },
  {
   "cell_type": "code",
   "execution_count": null,
   "metadata": {},
   "outputs": [],
   "source": [
    "# Test a known good combination of values against the functions provided above.\n",
    "#\n",
    "# Some errors are expected because:\n",
    "#  -- the floating point math is meant for simplicity, not accurate calculations!\n",
    "#  -- ticks and tick ranges are ignored for simplicity\n",
    "#  -- the test values taken from Uniswap v3 UI and are approximate\n",
    "\n",
    "def test(x, y, p, a, b):\n",
    "    sp = p ** 0.5\n",
    "    sa = a ** 0.5\n",
    "    sb = b ** 0.5\n",
    "\n",
    "    L = get_liquidity(x, y, sp, sa, sb)\n",
    "    print(\"L: {:.2f}\".format(L))\n",
    "\n",
    "    ia = calculate_a1(L, sp, sb, x, y)\n",
    "    error = 100.0 * (1 - ia / a)\n",
    "    print(\"a (using L): {:.2f} vs {:.2f}, error {:.6f}%\".format(a, ia, error))\n",
    "\n",
    "    ia = calculate_a2(sp, sb, x, y)\n",
    "    error = 100.0 * (1 - ia / a)\n",
    "    print(\"a (not using L): {:.2f} vs {:.2f}, error {:.6f}%\".format(a, ia, error))\n",
    "\n",
    "    ib = calculate_b1(L, sp, sa, x, y)\n",
    "    error = 100.0 * (1 - ib / b)\n",
    "    print(\"b (using L): {:.2f} vs {:.2f}, error {:.6f}%\".format(b, ib, error))\n",
    "\n",
    "    ib = calculate_b2(sp, sa, x, y)\n",
    "    error = 100.0 * (1 - ib / b)\n",
    "    print(\"b (not using L): {:.2f} vs {:.2f}, error {:.6f}%\".format(b, ib, error))\n",
    "\n",
    "\n",
    "    c = sb / sp\n",
    "    d = sa / sp\n",
    "    \n",
    "    ic = calculate_c(p, d, x, y)\n",
    "    error = 100.0 * (1 - ic / c)\n",
    "    print(\"c^2: {:.2f} vs {:.2f}, error {:.6f}%\".format(c**2, ic**2, error))\n",
    "\n",
    "    id = calculate_d(p, c, x, y)\n",
    "    error = 100.0 * (1 - id**2 / d**2)\n",
    "    print(\"d^2: {:.2f} vs {:.2f}, error {:.6f}%\".format(d**2, id**2, error))\n",
    "\n",
    "\n",
    "    ix = calculate_x(L, sp, sa, sb)\n",
    "    error = 100.0 * (1 - ix / x)\n",
    "    print(\"x: {:.2f} vs {:.2f}, error {:.6f}%\".format(x, ix, error))\n",
    "\n",
    "    iy = calculate_y(L, sp, sa, sb)\n",
    "    error = 100.0 * (1 - iy / y)\n",
    "    print(\"y: {:.2f} vs {:.2f}, error {:.6f}%\".format(y, iy, error))\n",
    "    print(\"\")"
   ]
  },
  {
   "cell_type": "code",
   "execution_count": null,
   "metadata": {},
   "outputs": [
    {
     "name": "stdout",
     "output_type": "stream",
     "text": [
      "test case 1\n",
      "\n",
      "L: 36.32\n",
      "a (using L): 19.03 vs 19.03, error -0.000000%\n",
      "a (not using L): 19.03 vs 19.03, error -0.013021%\n",
      "b (using L): 25.99 vs 26.01, error -0.072428%\n",
      "b (not using L): 25.99 vs 26.01, error -0.072428%\n",
      "c^2: 1.30 vs 1.30, error -0.036208%\n",
      "d^2: 0.95 vs 0.95, error -0.013021%\n",
      "x: 1.00 vs 1.00, error 0.257824%\n",
      "y: 4.00 vs 4.00, error 0.000000%\n",
      "\n"
     ]
    }
   ],
   "source": [
    "# test 1\n",
    "print(\"test case 1\\n\")\n",
    "p = 20.0\n",
    "a = 19.027\n",
    "b = 25.993\n",
    "x = 1\n",
    "y = 4\n",
    "test(x, y, p, a, b)"
   ]
  },
  {
   "cell_type": "code",
   "execution_count": null,
   "metadata": {},
   "outputs": [
    {
     "name": "stdout",
     "output_type": "stream",
     "text": [
      "test case 2\n",
      "\n",
      "L: 308.75\n",
      "a (using L): 1626.30 vs 1624.21, error 0.128812%\n",
      "a (not using L): 1626.30 vs 1624.21, error 0.128812%\n",
      "b (using L): 4846.30 vs 4846.30, error 0.000000%\n",
      "b (not using L): 4846.30 vs 4842.86, error 0.070947%\n",
      "c^2: 1.50 vs 1.50, error 0.035480%\n",
      "d^2: 0.50 vs 0.50, error 0.128812%\n",
      "x: 1.00 vs 1.00, error 0.000000%\n",
      "y: 5096.06 vs 5088.04, error 0.157412%\n",
      "\n"
     ]
    }
   ],
   "source": [
    "# test 2\n",
    "print(\"test case 2\\n\")\n",
    "p = 3227.02\n",
    "a = 1626.3\n",
    "b = 4846.3\n",
    "x = 1\n",
    "y = 5096.06\n",
    "test(x, y, p, a, b)"
   ]
  },
  {
   "cell_type": "code",
   "execution_count": null,
   "metadata": {},
   "outputs": [
    {
     "name": "stdout",
     "output_type": "stream",
     "text": [
      "Example 1: how much of USDC I need when providing 2 ETH at this price and range?\n",
      "\n",
      "Current price, P = 1 ETH to 2000 USDC\n",
      "Price range: 1500 to 2500\n",
      "Amount of ETH, x = 2\n",
      "Amount of USDC, y = 5076.10\n",
      "p_a=1500.00 (75.00% of P), p_b=2500.00 (125.00% of P)\n",
      "\n"
     ]
    }
   ],
   "source": [
    "# Example 1 from the technical note\n",
    "\n",
    "p = 2000\n",
    "a = 1500\n",
    "b = 2500\n",
    "x = 2\n",
    "print(\"Example 1: how much of USDC I need when providing %s ETH at this price and range?\\n\" % x)\n",
    "print(\"Current price, P = 1 ETH to %s USDC\" % p)\n",
    "print(\"Price range: %s to %s\" % (a, b))\n",
    "print(\"Amount of ETH, x = %s\" % x)\n",
    "\n",
    "sp = p ** 0.5\n",
    "sa = a ** 0.5\n",
    "sb = b ** 0.5\n",
    "L = get_liquidity_0(x, sp, sb)\n",
    "y = calculate_y(L, sp, sa, sb)\n",
    "print(\"Amount of USDC, y = {:.2f}\".format(y))\n",
    "\n",
    "# demonstrate that with the calculated y value, the given range is correct\n",
    "c = sb / sp\n",
    "d = sa / sp\n",
    "ic = calculate_c(p, d, x, y)\n",
    "id = calculate_d(p, c, x, y)\n",
    "C = ic ** 2\n",
    "D = id ** 2\n",
    "print(\"p_a={:.2f} ({:.2f}% of P), p_b={:.2f} ({:.2f}% of P)\".format(\n",
    "    D * p, D * 100, C * p, C * 100))\n",
    "print(\"\")"
   ]
  },
  {
   "cell_type": "code",
   "execution_count": null,
   "metadata": {},
   "outputs": [
    {
     "name": "stdout",
     "output_type": "stream",
     "text": [
      "Example 2: I have 2 ETH and 4000 USDC, range top set to 3000 USDC. What's the bottom of the range?\n",
      "\n",
      "Current price, P = 1 ETH to 2000 USDC\n",
      "lower bound of the price p_a = 1333.33\n",
      "\n"
     ]
    }
   ],
   "source": [
    "# Example 2 from the technical note\n",
    "\n",
    "p = 2000\n",
    "b = 3000\n",
    "x = 2\n",
    "y = 4000\n",
    "print(\"Example 2: I have %s ETH and %s USDC, range top set to %s USDC. What's the bottom of the range?\\n\" % (x, y, b))\n",
    "print(\"Current price, P = 1 ETH to %s USDC\" % p)\n",
    "\n",
    "sp = p ** 0.5\n",
    "sb = b ** 0.5\n",
    "\n",
    "a = calculate_a2(sp, sb, x, y)\n",
    "print(\"lower bound of the price p_a = {:.2f}\".format(a))\n",
    "print(\"\")"
   ]
  },
  {
   "cell_type": "code",
   "execution_count": null,
   "metadata": {},
   "outputs": [
    {
     "name": "stdout",
     "output_type": "stream",
     "text": [
      "Example 3: Using the position created in Example 2, what are asset balances at 2500 USDC per ETH?\n",
      "\n",
      "Amount of ETH, x = 0.85; amount of USDC, y = 6572.89\n",
      "delta_x = -1.15; delta_y = 2572.89\n",
      "Amount of ETH, x = 0.85; amount of USDC, y = 6572.89\n"
     ]
    }
   ],
   "source": [
    "# Example 3 from the technical note\n",
    "\n",
    "p = 2000\n",
    "a = 1333.33\n",
    "b = 3000\n",
    "x = 2\n",
    "y = 4000\n",
    "\n",
    "sp = p ** 0.5\n",
    "sa = a ** 0.5\n",
    "sb = b ** 0.5\n",
    "# calculate the initial liquidity\n",
    "L = get_liquidity(x, y, sp, sa, sb)\n",
    "\n",
    "P1 = 2500\n",
    "print(\"Example 3: Using the position created in Example 2, what are asset balances at %s USDC per ETH?\\n\" % P1)\n",
    "sp1 = P1 ** 0.5\n",
    "x1 = calculate_x(L, sp1, sa, sb)\n",
    "y1 = calculate_y(L, sp1, sa, sb)\n",
    "print(\"Amount of ETH, x = {:.2f}; amount of USDC, y = {:.2f}\".format(x1, y1))\n",
    "\n",
    "# alternative way, directly based on the whitepaper\n",
    "\n",
    "# this delta math only works if the price is in the range (including at its endpoints),\n",
    "# so limit the square roots of prices to the range first\n",
    "sp = max(min(sp, sb), sa)\n",
    "sp1 = max(min(sp1, sb), sa)\n",
    "\n",
    "delta_p = sp1 - sp\n",
    "delta_inv_p = 1/sp1 - 1/sp\n",
    "delta_x = delta_inv_p * L\n",
    "delta_y = delta_p * L\n",
    "x1 = x + delta_x\n",
    "y1 = y + delta_y\n",
    "print(\"delta_x = {:.2f}; delta_y = {:.2f}\".format(delta_x, delta_y))\n",
    "print(\"Amount of ETH, x = {:.2f}; amount of USDC, y = {:.2f}\".format(x1, y1))"
   ]
  }
 ],
 "metadata": {
  "kernelspec": {
   "display_name": "gql",
   "language": "python",
   "name": "gql"
  }
 },
 "nbformat": 4,
 "nbformat_minor": 4
}
