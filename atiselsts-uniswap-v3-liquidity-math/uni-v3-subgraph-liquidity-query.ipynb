{
 "cells": [
  {
   "cell_type": "markdown",
   "metadata": {},
   "source": [
    "# Uniswap V3 Subgraph Liquidity Query Example\n",
    "\n",
    "This notebook is just the `.ipynb` (for easier reading of both code and output on github) implementation of [this code](https://github.com/atiselsts/uniswap-v3-liquidity-math/blob/master/subgraph-liquidity-query-example.py) (credit: https://github.com/atiselsts) with slight modifications, showing an example on how to query the Uniswap v3 Subgraph information to show the amounts locked in the current tick range of the USDC/WETH 0.3% pool.\n",
    "\n",
    "See the technical note [Liquidity Math in Uniswap v3](http://atiselsts.github.io/pdfs/uniswap-v3-liquidity-math.pdf), [Uniswap v3 whitepaper](https://uniswap.org/whitepaper-v3.pdf), and [Uniswap V3 Subgraph](https://thegraph.com/legacy-explorer/subgraph/uniswap/uniswap-v3) for more details."
   ]
  },
  {
   "cell_type": "code",
   "execution_count": null,
   "metadata": {},
   "outputs": [],
   "source": [
    "# Example that prints the current virtual amounts of assets in the 0.3% USDC/ETH pool\n",
    "# using liquidity data from the Uniswap v3 subgraph.\n",
    "\n",
    "import json\n",
    "import urllib.request\n",
    "import math\n",
    "\n",
    "# Look at the USDC/ETH 0.3% pool\n",
    "POOL_ID = '0x8ad599c3a0ff1de082011efddc58f1908eb6e6d8'\n",
    "\n",
    "URL = \"https://api.thegraph.com/subgraphs/name/uniswap/uniswap-v3\""
   ]
  },
  {
   "cell_type": "code",
   "execution_count": null,
   "metadata": {},
   "outputs": [],
   "source": [
    "# GraphQL query to get the pool information\n",
    "query = \"\"\"query pools {\n",
    "  pools (where: {id: \"%POOL_ID\"}){\n",
    "    tick\n",
    "    liquidity\n",
    "    feeTier\n",
    "    token0 {\n",
    "      symbol\n",
    "      decimals\n",
    "    }\n",
    "    token1 {\n",
    "      symbol\n",
    "      decimals\n",
    "    }\n",
    "  }\n",
    "}\"\"\"\n",
    "\n",
    "block_query = \"\"\"query {\n",
    "  _meta {\n",
    "    block {\n",
    "      number\n",
    "    }\n",
    "  }\n",
    "}\"\"\""
   ]
  },
  {
   "cell_type": "code",
   "execution_count": null,
   "metadata": {},
   "outputs": [],
   "source": [
    "TICK_BASE = 1.0001\n",
    "\n",
    "# Convert Uniswap v3 tick to a price (i.e. the ratio between the amounts of tokens: token1/token0)\n",
    "def tick_to_price(tick):\n",
    "    return TICK_BASE ** tick\n",
    "\n",
    "# Not all ticks can be initialized. Tick spacing is determined by the pool's fee tier.\n",
    "def fee_tier_to_tick_spacing(fee_tier):\n",
    "    return {\n",
    "        500: 10,\n",
    "        3000: 60,\n",
    "        10000: 200\n",
    "    }.get(fee_tier, 60)"
   ]
  },
  {
   "cell_type": "code",
   "execution_count": null,
   "metadata": {},
   "outputs": [],
   "source": [
    "# Query the subgraph\n",
    "req = urllib.request.Request(URL)\n",
    "req.add_header('Content-Type', 'application/json; charset=utf-8')\n",
    "jsondata = {\"query\" : block_query}\n",
    "jsondataasbytes = json.dumps(jsondata).encode('utf-8')\n",
    "req.add_header('Content-Length', len(jsondataasbytes))\n",
    "response = urllib.request.urlopen(req, jsondataasbytes)\n",
    "assert response.status == 200, \"Bad response\""
   ]
  },
  {
   "cell_type": "code",
   "execution_count": null,
   "metadata": {},
   "outputs": [
    {
     "name": "stdout",
     "output_type": "stream",
     "text": [
      "Ethereum block height 13153919\n"
     ]
    }
   ],
   "source": [
    "obj = json.load(response)\n",
    "blocknum = obj['data']['_meta']['block']['number']\n",
    "print(\"Ethereum block height {}\".format(blocknum))"
   ]
  },
  {
   "cell_type": "code",
   "execution_count": null,
   "metadata": {},
   "outputs": [],
   "source": [
    "# Query the subgraph\n",
    "req = urllib.request.Request(URL)\n",
    "req.add_header('Content-Type', 'application/json; charset=utf-8')\n",
    "jsondata = {\"query\" : query.replace(\"%POOL_ID\", POOL_ID)}\n",
    "jsondataasbytes = json.dumps(jsondata).encode('utf-8')\n",
    "req.add_header('Content-Length', len(jsondataasbytes))\n",
    "response = urllib.request.urlopen(req, jsondataasbytes)\n",
    "assert response.status == 200, \"Bad response\""
   ]
  },
  {
   "cell_type": "code",
   "execution_count": null,
   "metadata": {},
   "outputs": [
    {
     "data": {
      "text/plain": [
       "{'feeTier': '3000',\n",
       " 'liquidity': '19892067065265662764',\n",
       " 'tick': '193453',\n",
       " 'token0': {'decimals': '6', 'symbol': 'USDC'},\n",
       " 'token1': {'decimals': '18', 'symbol': 'WETH'}}"
      ]
     },
     "execution_count": null,
     "metadata": {},
     "output_type": "execute_result"
    }
   ],
   "source": [
    "obj = json.load(response)\n",
    "pool = obj['data']['pools'][0]\n",
    "pool"
   ]
  },
  {
   "cell_type": "code",
   "execution_count": null,
   "metadata": {},
   "outputs": [
    {
     "name": "stdout",
     "output_type": "stream",
     "text": [
      "L=19892067065265662764\n",
      "tick=193453\n",
      "tick spacing=60 for fee-tier 0.3%\n"
     ]
    }
   ],
   "source": [
    "# Extract liquidity from the response\n",
    "L = int(pool[\"liquidity\"])\n",
    "tick = int(pool[\"tick\"])\n",
    "ft = int(pool[\"feeTier\"])\n",
    "tick_spacing = fee_tier_to_tick_spacing(ft)\n",
    "\n",
    "print(\"L={}\".format(L))\n",
    "print(\"tick={}\".format(tick))\n",
    "print(\"tick spacing={} for fee-tier {}%\".format(tick_spacing, ft/1e4))"
   ]
  },
  {
   "cell_type": "code",
   "execution_count": null,
   "metadata": {},
   "outputs": [
    {
     "name": "stdout",
     "output_type": "stream",
     "text": [
      "token0 = USDC (6 decimals); token1 = WETH (18 decimals)\n"
     ]
    }
   ],
   "source": [
    "token0 = pool[\"token0\"][\"symbol\"]\n",
    "token1 = pool[\"token1\"][\"symbol\"]\n",
    "decimals0 = int(pool[\"token0\"][\"decimals\"]) # USDC has 6 decimals\n",
    "decimals1 = int(pool[\"token1\"][\"decimals\"]) # WETH has 18 decimals\n",
    "\n",
    "print(\"token0 = {} ({} decimals); token1 = {} ({} decimals)\".format(token0, decimals0, token1, decimals1))"
   ]
  },
  {
   "cell_type": "code",
   "execution_count": null,
   "metadata": {},
   "outputs": [
    {
     "name": "stdout",
     "output_type": "stream",
     "text": [
      "Current price: 0.000251847 WETH for 1 USDC (3970.66 USDC for 1 WETH)\n",
      "Amounts at the current tick: 3757006.89 USDC or 947.80 WETH\n",
      "As at Ethereum block height 13153919\n"
     ]
    }
   ],
   "source": [
    "# Compute the tick range containing current price tick.\n",
    "# This code would work as well in Python: `tick // TICK_SPACING * TICK_SPACING`\n",
    "# However, using floor() is more portable.\n",
    "bottom_tick = math.floor(tick / tick_spacing) * tick_spacing\n",
    "top_tick = bottom_tick + tick_spacing\n",
    "\n",
    "# Compute the current price and adjust it to a human-readable format\n",
    "price = tick_to_price(tick)\n",
    "adjusted_price = price / (10 ** (decimals1 - decimals0))\n",
    "\n",
    "# Compute square roots of prices corresponding to the bottom and top ticks\n",
    "sa = tick_to_price(bottom_tick // 2)\n",
    "sb = tick_to_price(top_tick // 2)\n",
    "\n",
    "# Compute real amounts of the two assets\n",
    "amount0 = L * (sb - sa) / (sa * sb) # eq(4) in technical note\n",
    "amount1 = L * (sb - sa) # eq(9) in technical note\n",
    "\n",
    "# Adjust them to a human-readable format\n",
    "adjusted_amount0 = amount0 / 10 ** decimals0\n",
    "adjusted_amount1 = amount1 / 10 ** decimals1\n",
    "\n",
    "print(\"Current price: {:.6g} {} for 1 {} ({:.6g} {} for 1 {})\".format(\n",
    "    adjusted_price, token1, token0, 1 / adjusted_price, token0, token1))\n",
    "\n",
    "print(\"Amounts at the current tick: {:.2f} {} or {:.2f} {}\".format(\n",
    "    adjusted_amount0, token0, adjusted_amount1, token1))\n",
    "print(\"As at Ethereum block height {}\".format(blocknum))"
   ]
  }
 ],
 "metadata": {
  "kernelspec": {
   "display_name": "gql",
   "language": "python",
   "name": "gql"
  }
 },
 "nbformat": 4,
 "nbformat_minor": 4
}
