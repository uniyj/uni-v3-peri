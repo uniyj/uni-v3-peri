{
 "cells": [
  {
   "cell_type": "markdown",
   "metadata": {},
   "source": [
    "# Get `gasUsed` statistics from previous successful Uniswap V3 pool creations\r\n",
    "\r\n",
    "This notebook shows some basic Python code to query Etherscan's API (needs an API key) for Uniswap V3 pool creation transactions, filter out the successful ones, and extract their `gasUsed` values to get some statistics (mean value, quartiles, etc).\r\n",
    "\r\n",
    "This uses `requests` to query the Etherscan API endpoint, and `pandas` to extract the statistics (percentile values).\r\n",
    "\r\n",
    "(Powered by Etherscan.io APIs)"
   ]
  },
  {
   "cell_type": "code",
   "execution_count": null,
   "metadata": {},
   "outputs": [],
   "source": [
    "# URL endpoint for Etherscan API\r\n",
    "uapi = r'https://api.etherscan.io/api'\r\n",
    "\r\n",
    "# Etherscan API key\r\n",
    "eskey = 'PasteYourEtherscanAPIkeyHere'\r\n",
    "\r\n",
    "# Uniswap V3 Factory smart contract address\r\n",
    "v3fac = '0x1f98431c8ad98523631ae4a59f267346ea31f984'"
   ]
  },
  {
   "cell_type": "code",
   "execution_count": null,
   "metadata": {},
   "outputs": [],
   "source": [
    "import requests"
   ]
  },
  {
   "cell_type": "code",
   "execution_count": null,
   "metadata": {},
   "outputs": [],
   "source": [
    "# Build the API query. Note that Uniswap v3 pool creation tx are \"internal tx\"\r\n",
    "query = {'module': 'account', 'action': 'txlistinternal', 'address': v3fac, 'sort': 'asc', 'apikey': eskey}"
   ]
  },
  {
   "cell_type": "code",
   "execution_count": null,
   "metadata": {},
   "outputs": [
    {
     "name": "stdout",
     "output_type": "stream",
     "text": [
      "<Response [200]>\n"
     ]
    }
   ],
   "source": [
    "response = requests.get(uapi, params=query)\r\n",
    "print(response)"
   ]
  },
  {
   "cell_type": "code",
   "execution_count": null,
   "metadata": {},
   "outputs": [
    {
     "data": {
      "text/plain": "1381"
     },
     "execution_count": null,
     "metadata": {},
     "output_type": "execute_result"
    }
   ],
   "source": [
    "# Extract list of V3 pool contract creation tx\r\n",
    "clist = response.json()['result']\r\n",
    "len(clist)"
   ]
  },
  {
   "cell_type": "code",
   "execution_count": null,
   "metadata": {},
   "outputs": [
    {
     "data": {
      "text/plain": "1189"
     },
     "execution_count": null,
     "metadata": {},
     "output_type": "execute_result"
    }
   ],
   "source": [
    "# Filter only the successful pool creation tx\r\n",
    "csuccess = [c for c in clist if c['isError'] == '0']\r\n",
    "len(csuccess)"
   ]
  },
  {
   "cell_type": "code",
   "execution_count": null,
   "metadata": {},
   "outputs": [],
   "source": [
    "import time\r\n",
    "\r\n",
    "# function to get gasUsed from a tx hash\r\n",
    "def getGasUsed(txhash):\r\n",
    "    query = {'module': 'proxy', 'action': 'eth_getTransactionReceipt', 'txhash': txhash, 'apikey': eskey}\r\n",
    "    resp = requests.get(uapi, params=query)\r\n",
    "    # time.sleep(0.1) # Etherscan free API rate = 5 calls per second. If necessary, can hack a delay in here\r\n",
    "    gasUsed = int(resp.json()['result']['gasUsed'], 16) # convert hex to int\r\n",
    "    return gasUsed"
   ]
  },
  {
   "cell_type": "code",
   "execution_count": null,
   "metadata": {},
   "outputs": [
    {
     "data": {
      "text/plain": "1189"
     },
     "execution_count": null,
     "metadata": {},
     "output_type": "execute_result"
    }
   ],
   "source": [
    "gases = [getGasUsed(c['hash']) for c in csuccess]\r\n",
    "len(gases)"
   ]
  },
  {
   "cell_type": "code",
   "execution_count": null,
   "metadata": {},
   "outputs": [
    {
     "data": {
      "text/plain": "4557500"
     },
     "execution_count": null,
     "metadata": {},
     "output_type": "execute_result"
    }
   ],
   "source": [
    "from pandas import DataFrame\r\n",
    "\r\n",
    "df = DataFrame(gases, columns=['gasUsed'])\r\n",
    "\r\n",
    "df.gasUsed.min()"
   ]
  },
  {
   "cell_type": "code",
   "execution_count": null,
   "metadata": {},
   "outputs": [
    {
     "data": {
      "text/plain": "0.05    5116549.2\n0.25    5164104.0\n0.50    5185631.0\n0.75    5246029.0\n0.95    5323256.6\nName: gasUsed, dtype: float64"
     },
     "execution_count": null,
     "metadata": {},
     "output_type": "execute_result"
    }
   ],
   "source": [
    "df.gasUsed.quantile([0.05,0.25,0.5,0.75,0.95])"
   ]
  },
  {
   "cell_type": "code",
   "execution_count": null,
   "metadata": {},
   "outputs": [
    {
     "data": {
      "text/plain": "5646304"
     },
     "execution_count": null,
     "metadata": {},
     "output_type": "execute_result"
    }
   ],
   "source": [
    "df.gasUsed.max()"
   ]
  },
  {
   "cell_type": "code",
   "execution_count": null,
   "metadata": {},
   "outputs": [],
   "source": []
  }
 ],
 "metadata": {
  "language_info": {},
  "orig_nbformat": 3
 },
 "nbformat": 4,
 "nbformat_minor": 2
}